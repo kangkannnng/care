{
 "cells": [
  {
   "cell_type": "code",
   "execution_count": null,
   "id": "dcc399be",
   "metadata": {},
   "outputs": [],
   "source": [
    "from autogen import Conversa"
   ]
  }
 ],
 "metadata": {
  "kernelspec": {
   "display_name": "agent",
   "language": "python",
   "name": "python3"
  },
  "language_info": {
   "name": "python",
   "version": "3.10.15"
  }
 },
 "nbformat": 4,
 "nbformat_minor": 5
}
